{
 "cells": [
  {
   "attachments": {},
   "cell_type": "markdown",
   "metadata": {},
   "source": [
    "Que es un ORM?\n",
    "Un ORM, por sus siglas al inglés: Object Relational Mappper, no es más que una pieza de software que nos permite interactuar con nuestra base de datos sin la necesidad de conocer SQL (El lenguaje de consultas). Todo esto utilizando el paradigma de programación orientada a objetos. \n",
    "\n",
    "Los ORMs se encarga de traducir nuestra instrucción en el lenguaje de programación que estemos utilizando a una sentencia SQL que el gestor de base de datos pueda entender.\n",
    "\n",
    "Veamos un ejemplo.\n",
    "Que pasa si deseamos obtener el id, username, email para nuestro usuarios con id número 1.\n",
    "\n",
    "Utilizando una base de datos relacional, MySQL por ejemplo. Nuestra consulta quedaría de la siguiente manera:\n",
    "SELECT id, username, email FROM id = 1\n",
    "\n",
    "Utilizando un ORM, por ejemplo PeeWee, quedaría de la siguiente manera y obteniendo el mismo resultado:\n",
    "User.select(User.id, User.username, User.email).where(User.id == 1)"
   ]
  },
  {
   "attachments": {},
   "cell_type": "markdown",
   "metadata": {},
   "source": [
    "PeeWee es un ORM “ligero” que nos permite interactuar con bases de datos SQLite, MySQL, PostgreSQL.\n",
    "La documentación de PeeWee está bastante completa y nos indica con ejemplos cómo utilizar este módulo en detalle. \n",
    "PeeWee es como SQLAlchemy, un ORN más “ligero” y “sencillo” de utilizar; con él podemos crear un modelo, insertar datos, consultar datos y por supuesto actualizar y eliminar los datos previamente introducidos. \n",
    "Soporta el uso de JOIN, claves foráneas y claves primarias compuestas."
   ]
  },
  {
   "cell_type": "code",
   "execution_count": null,
   "metadata": {},
   "outputs": [],
   "source": [
    "pip install peewee"
   ]
  },
  {
   "cell_type": "code",
   "execution_count": null,
   "metadata": {},
   "outputs": [],
   "source": [
    "%load_ext autoreload\n",
    "%autoreload 2"
   ]
  },
  {
   "attachments": {},
   "cell_type": "markdown",
   "metadata": {},
   "source": [
    "Creación de modelos\n",
    "\n",
    "Declaramos la primera tabla llamada “Profesores” heredado de “Model”. \n",
    "El nombre de la clase será el nombre de nuestra tabla dentro de la base de datos.\n",
    "\n",
    "Con los siguientes campos:\n",
    "maestro_id como clave primaria del tipo AutoField para auto-increment el campo.\n",
    "nombre, apellido, telefono e email como CharField para almacenar los datos tipo VarChar.\n",
    "En email vemos que colocamos la opción de unique=True para que dicho campo sea único en el modelo.\n",
    "\n",
    "A continuación declararmos la tabla de “Clases”, que igualmente heredamos de modelo, y las diferencias con lo que hemos visto antes son las siguientes:\n",
    "\n",
    "Campo de fecha_inicio_curso y fecha_fin_curso, son del tipo DateField para almacenar (por defecto) formato Año-Mes-Día.\n",
    "maestro_id, el cual es llave foránea del maestro_id de la tabla “Profesores”."
   ]
  },
  {
   "cell_type": "code",
   "execution_count": null,
   "metadata": {},
   "outputs": [],
   "source": [
    "from peewee import MySQLDatabase, AutoField, CharField, DateField, ForeignKeyField, Model\n",
    "\n",
    "db = MySQLDatabase('pil2023', user='root', password='Pil2023', host='localhost', port=3306)\n",
    "\n",
    "class Profesores(Model):\n",
    "   maestro_id = AutoField()\n",
    "   nombre = CharField()\n",
    "   apellido = CharField()\n",
    "   telefono = CharField()\n",
    "   email = CharField(unique=True)\n",
    "\n",
    "   class Meta:\n",
    "       database = db\n",
    "\n",
    "class Clases(Model):\n",
    "   clase_id = AutoField()\n",
    "   cod_curso = CharField()\n",
    "   fecha_inicio_curso = DateField()\n",
    "   fecha_fin_curso = DateField()\n",
    "   horario = CharField()\n",
    "   maestro_id = ForeignKeyField(Profesores)\n",
    "\n",
    "   class Meta:\n",
    "       database = db\n",
    "\n",
    "db.connect()\n",
    "db.create_tables([Profesores, Clases])"
   ]
  },
  {
   "attachments": {},
   "cell_type": "markdown",
   "metadata": {},
   "source": [
    "Insertar registros simples:\n"
   ]
  },
  {
   "cell_type": "code",
   "execution_count": null,
   "metadata": {},
   "outputs": [],
   "source": [
    "nuevo_profe = Profesores( nombre='Luis',\n",
    "                   apellido='Alanis',\n",
    "                   telefono='3512542577',\n",
    "                   email='luis.alanis@mail.com')\n",
    "nuevo_profe.save()"
   ]
  },
  {
   "cell_type": "code",
   "execution_count": null,
   "metadata": {},
   "outputs": [],
   "source": [
    "curso_pil2023 = Clases( cod_curso='python_db_2023', fecha_inicio_curso='2023-08-01', fecha_fin_curso='2023-12-01', horario='Noche', maestro_id = 1)\n",
    "curso_pil2023.save()"
   ]
  },
  {
   "attachments": {},
   "cell_type": "markdown",
   "metadata": {},
   "source": [
    "Insertar registros múltiples"
   ]
  },
  {
   "cell_type": "code",
   "execution_count": null,
   "metadata": {},
   "outputs": [],
   "source": [
    "cursos = [\n",
    "   {'cod_curso': 'python_fullstack_2023', 'fecha_inicio_curso': '2023-08-01', 'fecha_fin_curso': '2023-12-01', 'horario': 'Noche', 'maestro_id': 1},\n",
    "   {'cod_curso': 'python_net_2023', 'fecha_inicio_curso': '2023-08-01', 'fecha_fin_curso': '2023-12-01', 'horario': 'Noche', 'maestro_id': 1},\n",
    "]\n",
    "\n",
    "with db.atomic():\n",
    "   query = Clases.insert_many(cursos)\n",
    "   query.execute()"
   ]
  },
  {
   "attachments": {},
   "cell_type": "markdown",
   "metadata": {},
   "source": [
    "Recuperar registros"
   ]
  },
  {
   "cell_type": "code",
   "execution_count": null,
   "metadata": {},
   "outputs": [],
   "source": [
    "for profesor in Profesores.select():\n",
    "     print('Nombre: {} - Apellido: {} - Teléfono: {} - Email: {}'\n",
    "     .format(profesor.nombre, profesor.apellido, profesor.telefono, profesor.email))"
   ]
  },
  {
   "cell_type": "code",
   "execution_count": null,
   "metadata": {},
   "outputs": [],
   "source": [
    "profes = Profesores.select().where(Profesores.maestro_id==1)\n",
    "\n",
    "for profesor in profes:\n",
    "     print('Nombre: {} - Apellido: {} - Teléfono: {} - Email: {}'\n",
    "     .format(profesor.nombre, profesor.apellido, profesor.telefono, profesor.email))\n"
   ]
  },
  {
   "attachments": {},
   "cell_type": "markdown",
   "metadata": {},
   "source": [
    "Recuperar registros relacionado las tablas\n",
    "\n",
    "La sentencia en sql sería la sieguiente:\n",
    "SELECT \"t1\".\"maestro_id\", \"t1\".\"nombre\", \"t1\".\"apellido\", \"t1\".\"telefono\", \"t1\".\"email\", \"t2\".\"clase_id\", \"t2\".\"cod_curso\", \"t2\".\"fecha_inicio_curso\", \"t2\".\"fecha_fin_curso\", \"t2\".\"horario\", \"t2\".\"maestro_id\" \n",
    "FROM \"profesores\" AS \"t1\" \n",
    "INNER JOIN \"clases\" AS \"t2\" ON (\"t2\".\"maestro_id\" = \"t1\".\"maestro_id\") \n",
    "WHERE (\"t1\".\"maestro_id\" = \"t2\".\"maestro_id\") GROUP BY \"t2\".\"cod_curso\"\n"
   ]
  },
  {
   "cell_type": "code",
   "execution_count": null,
   "metadata": {},
   "outputs": [],
   "source": [
    "query = (Profesores\n",
    "        .select(Profesores, Clases)\n",
    "        .join(Clases)\n",
    "        .group_by(Clases.cod_curso)\n",
    "        .where(Profesores.maestro_id == Clases.maestro_id))\n",
    "\n",
    "for curso in query:\n",
    "   print('El curso {} esta comienza el {} y termina el {}, y va ser impartido por {} {}'\n",
    "   .format(curso.clases.cod_curso, curso.clases.fecha_inicio_curso, curso.clases.fecha_fin_curso, curso.nombre, curso.apellido))"
   ]
  },
  {
   "attachments": {},
   "cell_type": "markdown",
   "metadata": {},
   "source": [
    "Actualización de registros"
   ]
  },
  {
   "cell_type": "code",
   "execution_count": null,
   "metadata": {},
   "outputs": [],
   "source": [
    "actualizar_profe = Profesores.update(nombre='Alvaro').where(Profesores.maestro_id == 1)\n",
    "actualizar_profe.execute()"
   ]
  },
  {
   "attachments": {},
   "cell_type": "markdown",
   "metadata": {},
   "source": [
    "Borrar datos"
   ]
  },
  {
   "cell_type": "code",
   "execution_count": null,
   "metadata": {},
   "outputs": [],
   "source": [
    "eliminar_curso = Clases.delete().where(Clases.cod_curso == 'python_net_2023')\n",
    "eliminar_curso.execute()"
   ]
  }
 ],
 "metadata": {
  "kernelspec": {
   "display_name": "Python 3.10.6 64-bit",
   "language": "python",
   "name": "python3"
  },
  "language_info": {
   "codemirror_mode": {
    "name": "ipython",
    "version": 3
   },
   "file_extension": ".py",
   "mimetype": "text/x-python",
   "name": "python",
   "nbconvert_exporter": "python",
   "pygments_lexer": "ipython3",
   "version": "3.10.6"
  },
  "orig_nbformat": 4,
  "vscode": {
   "interpreter": {
    "hash": "aee8b7b246df8f9039afb4144a1f6fd8d2ca17a180786b69acc140d282b71a49"
   }
  }
 },
 "nbformat": 4,
 "nbformat_minor": 2
}
