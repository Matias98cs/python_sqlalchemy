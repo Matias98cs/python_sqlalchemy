{
 "cells": [
  {
   "cell_type": "code",
   "execution_count": 38,
   "metadata": {},
   "outputs": [],
   "source": [
    "from peewee import MySQLDatabase, AutoField, CharField, DateField, ForeignKeyField, Model, IntegerField, TextField, Field, fn, JOIN\n",
    "from playhouse.hybrid import hybrid_property\n",
    "import datetime\n",
    "\n",
    "db = MySQLDatabase('pil2023', user='root', password='Pil2023', host='localhost', port=3306)"
   ]
  },
  {
   "cell_type": "code",
   "execution_count": 40,
   "metadata": {},
   "outputs": [],
   "source": [
    "class Profesores(Model):\n",
    "    first_name = CharField()\n",
    "    last_name = CharField()\n",
    "    gender = CharField()\n",
    "    phone = CharField()\n",
    "    birthdate = DateField()\n",
    "    email = CharField(unique=True)\n",
    "\n",
    "    class Meta:\n",
    "        database = db\n",
    "\n",
    "    @hybrid_property\n",
    "    def age(self):\n",
    "        today = datetime.date.today()\n",
    "        age = today.year - self.birthdate.year\n",
    "        if (today.year, today.month, today.day) < (today.year, self.birthdate.month, self.birthdate.day):\n",
    "            age -= 1\n",
    "        return age\n",
    "\n",
    "class Cursos(Model):\n",
    "    cod_curso = CharField()\n",
    "    fecha_inicio_curso = DateField()\n",
    "    fecha_fin_curso = DateField()\n",
    "    turno = CharField()\n",
    "\n",
    "    class Meta:\n",
    "        database = db\n",
    "\n",
    "class Alumnos(Model):\n",
    "    first_name = CharField()\n",
    "    last_name = CharField()\n",
    "    gender = CharField()\n",
    "    phone = CharField()\n",
    "    birthdate = DateField()\n",
    "    email = CharField(unique=True)\n",
    "\n",
    "    class Meta:\n",
    "        database = db\n",
    "    \n",
    "    @hybrid_property\n",
    "    def age(self):\n",
    "        today = datetime.date.today()\n",
    "        age = today.year - self.birthdate.year\n",
    "        if (today.year, today.month, today.day) < (today.year, self.birthdate.month, self.birthdate.day):\n",
    "            age -= 1\n",
    "        return age\n",
    "\n",
    "class ProfesoresCursos(Model):\n",
    "\tprofesor = ForeignKeyField(Profesores, backref=\"profesxcursos\")\n",
    "\tcurso = ForeignKeyField(Cursos, backref=\"profesxcursos\")\n",
    "\t\n",
    "\tclass Meta:\n",
    "\t\tdatabase = db\n",
    "\n",
    "class AlumnosCursos(Model):\n",
    "\talumno = ForeignKeyField(Alumnos, backref=\"alumnoxcursos\")\n",
    "\tcurso = ForeignKeyField(Cursos, backref=\"alumnoxcursos\")\n",
    "\n",
    "\tclass Meta:\n",
    "\t\tdatabase = db"
   ]
  },
  {
   "cell_type": "code",
   "execution_count": 45,
   "metadata": {},
   "outputs": [],
   "source": [
    "\n",
    "db.connect()\n",
    "db.create_tables([Profesores, Cursos, Alumnos, ProfesoresCursos, AlumnosCursos])"
   ]
  },
  {
   "cell_type": "code",
   "execution_count": 46,
   "metadata": {},
   "outputs": [],
   "source": [
    "dataset_profesores=[{  \"first_name\": \"Augustina\",  \"last_name\": \"Torbeck\",  \"gender\": \"Female\",  \"phone\": \"527-351-5806\",  \"birthdate\": \"1996-07-09\",  \"email\": \"atorbeck0@blinklist.com\"}, \n",
    "{  \"first_name\": \"Catherina\",  \"last_name\": \"Ortsmann\",  \"gender\": \"Female\",  \"phone\": \"839-134-4511\",  \"birthdate\": \"1994-05-27\",  \"email\": \"cortsmann1@deviantart.com\"}, \n",
    "{  \"first_name\": \"Nigel\",  \"last_name\": \"Petraitis\",  \"gender\": \"Male\",  \"phone\": \"140-987-8112\",  \"birthdate\": \"1972-02-15\",  \"email\": \"npetraitis2@simplemachines.org\"}, \n",
    "{  \"first_name\": \"Valenka\",  \"last_name\": \"Kropach\",  \"gender\": \"Female\",  \"phone\": \"143-524-5309\",  \"birthdate\": \"1964-03-08\",  \"email\": \"vkropach3@disqus.com\"}, \n",
    "{  \"first_name\": \"Yvonne\",  \"last_name\": \"Blinerman\",  \"gender\": \"Female\",  \"phone\": \"130-604-2773\",  \"birthdate\": \"1961-08-30\",  \"email\": \"yblinerman4@pen.io\"}, \n",
    "{  \"first_name\": \"Alejoa\",  \"last_name\": \"Geale\",  \"gender\": \"Male\",  \"phone\": \"206-101-4512\",  \"birthdate\": \"1993-12-12\",  \"email\": \"ageale5@last.fm\"}, \n",
    "{  \"first_name\": \"Shermy\",  \"last_name\": \"Izak\",  \"gender\": \"Male\",  \"phone\": \"118-219-7303\",  \"birthdate\": \"1983-03-22\",  \"email\": \"sizak6@webnode.com\"}, \n",
    "{  \"first_name\": \"Vaughan\",  \"last_name\": \"Attwool\",  \"gender\": \"Male\",  \"phone\": \"208-132-1783\",  \"birthdate\": \"2002-10-26\",  \"email\": \"vattwool7@mozilla.org\"}, \n",
    "{  \"first_name\": \"Haroun\",  \"last_name\": \"Ginsie\",  \"gender\": \"Male\",  \"phone\": \"514-463-6407\",  \"birthdate\": \"1983-08-30\",  \"email\": \"hginsie8@tamu.edu\"}, \n",
    "{  \"first_name\": \"Waldemar\",  \"last_name\": \"Daltry\",  \"gender\": \"Male\",  \"phone\": \"272-208-2265\",  \"birthdate\": \"1962-09-10\",  \"email\": \"wdaltry9@vk.com\"}, \n",
    "{  \"first_name\": \"Caresse\",  \"last_name\": \"Battell\",  \"gender\": \"Female\",  \"phone\": \"720-300-0554\",  \"birthdate\": \"2001-12-14\",  \"email\": \"cbattella@qq.com\"}, \n",
    "{  \"first_name\": \"Tommie\",  \"last_name\": \"Draaisma\",  \"gender\": \"Female\",  \"phone\": \"686-879-3067\",  \"birthdate\": \"1963-03-03\",  \"email\": \"tdraaismab@vkontakte.ru\"}, \n",
    "{  \"first_name\": \"Adrian\",  \"last_name\": \"Thames\",  \"gender\": \"Male\",  \"phone\": \"520-913-4609\",  \"birthdate\": \"1995-01-08\",  \"email\": \"athamesc@wiley.com\"}, \n",
    "{  \"first_name\": \"Cyndia\",  \"last_name\": \"Ianno\",  \"gender\": \"Female\",  \"phone\": \"597-934-6289\",  \"birthdate\": \"1996-06-15\",  \"email\": \"ciannod@4shared.com\"}, \n",
    "{  \"first_name\": \"Boycie\",  \"last_name\": \"Bagwell\",  \"gender\": \"Male\",  \"phone\": \"792-756-5502\",  \"birthdate\": \"1970-06-20\",  \"email\": \"bbagwelle@statcounter.com\"}, \n",
    "{  \"first_name\": \"Dyanna\",  \"last_name\": \"Castello\",  \"gender\": \"Female\",  \"phone\": \"936-112-0773\",  \"birthdate\": \"1961-09-24\",  \"email\": \"dcastellof@wordpress.org\"}, \n",
    "{  \"first_name\": \"Broderick\",  \"last_name\": \"Brass\",  \"gender\": \"Male\",  \"phone\": \"763-953-5380\",  \"birthdate\": \"1979-10-10\",  \"email\": \"bbrassg@dell.com\"}, \n",
    "{  \"first_name\": \"Nicky\",  \"last_name\": \"Alker\",  \"gender\": \"Female\",  \"phone\": \"137-264-4313\",  \"birthdate\": \"1967-05-23\",  \"email\": \"nalkerh@hao123.com\"}, \n",
    "{  \"first_name\": \"Leisha\",  \"last_name\": \"Sales\",  \"gender\": \"Female\",  \"phone\": \"908-756-3854\",  \"birthdate\": \"1960-11-29\",  \"email\": \"lsalesi@chicagotribune.com\"}, \n",
    "{  \"first_name\": \"Lisetta\",  \"last_name\": \"Folini\",  \"gender\": \"Female\",  \"phone\": \"645-282-7180\",  \"birthdate\": \"1983-07-16\",  \"email\": \"lfolinij@amazon.de\"}]"
   ]
  },
  {
   "cell_type": "code",
   "execution_count": 47,
   "metadata": {},
   "outputs": [],
   "source": [
    "dataset_cursos = [{'cod_curso': 'python_fullstack_2023', 'fecha_inicio_curso': '2023-08-01', 'fecha_fin_curso': '2023-12-01', 'turno': 'Noche'},\n",
    "{'cod_curso': 'python_net_2023', 'fecha_inicio_curso': '2023-08-01', 'fecha_fin_curso': '2023-12-01', 'turno': 'Mañana'},\n",
    "{'cod_curso': 'testing_qa_2023', 'fecha_inicio_curso': '2023-08-01', 'fecha_fin_curso': '2023-12-01', 'turno': 'Tarde'},\n",
    "{'cod_curso': 'python_db_2023', 'fecha_inicio_curso': '2023-08-01', 'fecha_fin_curso': '2023-12-01', 'turno': 'Noche'}]"
   ]
  },
  {
   "cell_type": "code",
   "execution_count": 48,
   "metadata": {},
   "outputs": [],
   "source": [
    "dataset_alumnos = [{\"first_name\":\"Carry\",\"last_name\":\"GiacobbiniJacob\",\"gender\":\"Female\",\"phone\":\"294-665-4479\",\"birthdate\":\"2002-08-04\",\"email\":\"cgiacobbinijacob0@youtu.be\"},\n",
    "{\"first_name\":\"Madelon\",\"last_name\":\"Kenvin\",\"gender\":\"Female\",\"phone\":\"194-724-6252\",\"birthdate\":\"1990-12-24\",\"email\":\"mkenvin1@vinaora.com\"},\n",
    "{\"first_name\":\"Lorant\",\"last_name\":\"Wattisham\",\"gender\":\"Male\",\"phone\":\"603-125-2716\",\"birthdate\":\"1995-03-25\",\"email\":\"lwattisham2@theglobeandmail.com\"},\n",
    "{\"first_name\":\"Aggi\",\"last_name\":\"Stonnell\",\"gender\":\"Female\",\"phone\":\"488-362-7648\",\"birthdate\":\"1997-02-15\",\"email\":\"astonnell3@seesaa.net\"},\n",
    "{\"first_name\":\"Patrizio\",\"last_name\":\"Licquorish\",\"gender\":\"Male\",\"phone\":\"693-653-5871\",\"birthdate\":\"1997-09-08\",\"email\":\"plicquorish4@google.com.au\"},\n",
    "{\"first_name\":\"Andrew\",\"last_name\":\"Demsey\",\"gender\":\"Male\",\"phone\":\"289-966-4977\",\"birthdate\":\"1998-11-23\",\"email\":\"ademsey5@hhs.gov\"},\n",
    "{\"first_name\":\"Blanch\",\"last_name\":\"Lemasney\",\"gender\":\"Female\",\"phone\":\"560-695-0177\",\"birthdate\":\"1993-12-27\",\"email\":\"blemasney6@printfriendly.com\"},\n",
    "{\"first_name\":\"Vin\",\"last_name\":\"Oseman\",\"gender\":\"Female\",\"phone\":\"585-443-0003\",\"birthdate\":\"1997-06-24\",\"email\":\"voseman7@phpbb.com\"},\n",
    "{\"first_name\":\"Tremaine\",\"last_name\":\"Hischke\",\"gender\":\"Male\",\"phone\":\"591-732-2627\",\"birthdate\":\"2003-04-15\",\"email\":\"thischke8@dailymotion.com\"},\n",
    "{\"first_name\":\"Mel\",\"last_name\":\"Dollman\",\"gender\":\"Female\",\"phone\":\"181-698-9668\",\"birthdate\":\"1993-11-13\",\"email\":\"mdollman9@zdnet.com\"},\n",
    "{\"first_name\":\"Ralph\",\"last_name\":\"Finker\",\"gender\":\"Male\",\"phone\":\"599-604-8229\",\"birthdate\":\"2002-10-08\",\"email\":\"rfinkera@opensource.org\"},\n",
    "{\"first_name\":\"Tessy\",\"last_name\":\"Germon\",\"gender\":\"Female\",\"phone\":\"741-318-5571\",\"birthdate\":\"1999-12-28\",\"email\":\"tgermonb@npr.org\"},\n",
    "{\"first_name\":\"Austen\",\"last_name\":\"Simonin\",\"gender\":\"Male\",\"phone\":\"508-845-7763\",\"birthdate\":\"1995-05-03\",\"email\":\"asimoninc@usnews.com\"},\n",
    "{\"first_name\":\"Juline\",\"last_name\":\"Mandifield\",\"gender\":\"Female\",\"phone\":\"929-533-3434\",\"birthdate\":\"1996-05-04\",\"email\":\"jmandifieldd@weibo.com\"},\n",
    "{\"first_name\":\"Lacey\",\"last_name\":\"McCritichie\",\"gender\":\"Female\",\"phone\":\"866-278-1119\",\"birthdate\":\"2002-06-10\",\"email\":\"lmccritichiee@networksolutions.com\"},\n",
    "{\"first_name\":\"Demott\",\"last_name\":\"Sunderland\",\"gender\":\"Male\",\"phone\":\"372-725-7401\",\"birthdate\":\"1995-05-24\",\"email\":\"dsunderlandf@simplemachines.org\"},\n",
    "{\"first_name\":\"Myles\",\"last_name\":\"Lebell\",\"gender\":\"Male\",\"phone\":\"161-369-5776\",\"birthdate\":\"1997-09-09\",\"email\":\"mlebellg@4shared.com\"},\n",
    "{\"first_name\":\"De\",\"last_name\":\"Bolter\",\"gender\":\"Female\",\"phone\":\"626-252-0056\",\"birthdate\":\"1992-09-30\",\"email\":\"dbolterh@unicef.org\"},\n",
    "{\"first_name\":\"Torrance\",\"last_name\":\"Fortin\",\"gender\":\"Male\",\"phone\":\"939-622-0708\",\"birthdate\":\"2002-01-15\",\"email\":\"tfortini@ucla.edu\"},\n",
    "{\"first_name\":\"Wilhelmine\",\"last_name\":\"Wrightim\",\"gender\":\"Female\",\"phone\":\"477-512-4429\",\"birthdate\":\"2003-07-07\",\"email\":\"wwrightimj@gov.uk\"},\n",
    "{\"first_name\":\"Carson\",\"last_name\":\"Ulster\",\"gender\":\"Male\",\"phone\":\"578-425-6731\",\"birthdate\":\"1995-07-24\",\"email\":\"culsterk@china.com.cn\"},\n",
    "{\"first_name\":\"Win\",\"last_name\":\"Bibb\",\"gender\":\"Male\",\"phone\":\"952-540-0802\",\"birthdate\":\"1995-07-03\",\"email\":\"wbibbl@google.nl\"},\n",
    "{\"first_name\":\"Eleonora\",\"last_name\":\"Troy\",\"gender\":\"Female\",\"phone\":\"387-313-4967\",\"birthdate\":\"1997-07-07\",\"email\":\"etroym@deliciousdays.com\"},\n",
    "{\"first_name\":\"Kristos\",\"last_name\":\"Farquarson\",\"gender\":\"Male\",\"phone\":\"853-209-5835\",\"birthdate\":\"2000-09-14\",\"email\":\"kfarquarsonn@histats.com\"},\n",
    "{\"first_name\":\"Caryl\",\"last_name\":\"Kliesl\",\"gender\":\"Male\",\"phone\":\"271-298-1496\",\"birthdate\":\"1999-10-02\",\"email\":\"cklieslo@technorati.com\"},\n",
    "{\"first_name\":\"Magdalene\",\"last_name\":\"Varley\",\"gender\":\"Female\",\"phone\":\"736-805-9573\",\"birthdate\":\"2001-07-10\",\"email\":\"mvarleyp@msn.com\"},\n",
    "{\"first_name\":\"Evie\",\"last_name\":\"Esson\",\"gender\":\"Female\",\"phone\":\"558-600-7357\",\"birthdate\":\"1992-05-04\",\"email\":\"eessonq@free.fr\"},\n",
    "{\"first_name\":\"Lindsay\",\"last_name\":\"Playhill\",\"gender\":\"Female\",\"phone\":\"777-279-8422\",\"birthdate\":\"1998-03-20\",\"email\":\"lplayhillr@1688.com\"},\n",
    "{\"first_name\":\"Nichol\",\"last_name\":\"Belward\",\"gender\":\"Female\",\"phone\":\"410-673-4433\",\"birthdate\":\"2003-07-25\",\"email\":\"nbelwards@mayoclinic.com\"},\n",
    "{\"first_name\":\"Charla\",\"last_name\":\"Faich\",\"gender\":\"Female\",\"phone\":\"992-680-8355\",\"birthdate\":\"1994-08-19\",\"email\":\"cfaicht@boston.com\"},\n",
    "{\"first_name\":\"Tarrance\",\"last_name\":\"Snoxell\",\"gender\":\"Male\",\"phone\":\"407-592-0005\",\"birthdate\":\"1999-01-04\",\"email\":\"tsnoxellu@cdc.gov\"},\n",
    "{\"first_name\":\"Teri\",\"last_name\":\"Grishelyov\",\"gender\":\"Female\",\"phone\":\"670-350-8807\",\"birthdate\":\"1992-11-28\",\"email\":\"tgrishelyovv@go.com\"},\n",
    "{\"first_name\":\"Ashby\",\"last_name\":\"Hick\",\"gender\":\"Male\",\"phone\":\"968-293-4816\",\"birthdate\":\"1995-12-20\",\"email\":\"ahickw@army.mil\"},\n",
    "{\"first_name\":\"Orin\",\"last_name\":\"Dykes\",\"gender\":\"Male\",\"phone\":\"489-621-0939\",\"birthdate\":\"1991-11-29\",\"email\":\"odykesx@technorati.com\"},\n",
    "{\"first_name\":\"Iver\",\"last_name\":\"Wolseley\",\"gender\":\"Male\",\"phone\":\"419-319-6451\",\"birthdate\":\"2002-11-18\",\"email\":\"iwolseleyy@reverbnation.com\"},\n",
    "{\"first_name\":\"Codie\",\"last_name\":\"Cumberlidge\",\"gender\":\"Female\",\"phone\":\"179-388-7146\",\"birthdate\":\"1994-02-02\",\"email\":\"ccumberlidgez@msu.edu\"},\n",
    "{\"first_name\":\"Sheree\",\"last_name\":\"Van Der Vlies\",\"gender\":\"Female\",\"phone\":\"809-557-1164\",\"birthdate\":\"1999-01-20\",\"email\":\"svandervlies10@furl.net\"},\n",
    "{\"first_name\":\"Faith\",\"last_name\":\"Garralts\",\"gender\":\"Female\",\"phone\":\"947-780-2410\",\"birthdate\":\"1992-05-29\",\"email\":\"fgarralts11@shinystat.com\"},\n",
    "{\"first_name\":\"Uta\",\"last_name\":\"Glossop\",\"gender\":\"Female\",\"phone\":\"428-185-7460\",\"birthdate\":\"1999-09-30\",\"email\":\"uglossop12@uiuc.edu\"},\n",
    "{\"first_name\":\"Neron\",\"last_name\":\"Goffe\",\"gender\":\"Male\",\"phone\":\"917-185-6340\",\"birthdate\":\"1991-03-26\",\"email\":\"ngoffe13@tinypic.com\"},\n",
    "{\"first_name\":\"Jacinda\",\"last_name\":\"Raubenheimers\",\"gender\":\"Female\",\"phone\":\"108-111-6815\",\"birthdate\":\"1995-07-11\",\"email\":\"jraubenheimers14@mit.edu\"},\n",
    "{\"first_name\":\"Dasie\",\"last_name\":\"Brind\",\"gender\":\"Female\",\"phone\":\"518-683-8054\",\"birthdate\":\"1997-02-16\",\"email\":\"dbrind15@ezinearticles.com\"},\n",
    "{\"first_name\":\"Caron\",\"last_name\":\"Lattin\",\"gender\":\"Female\",\"phone\":\"183-730-7102\",\"birthdate\":\"2000-11-08\",\"email\":\"clattin16@technorati.com\"},\n",
    "{\"first_name\":\"Dasi\",\"last_name\":\"Dyerson\",\"gender\":\"Female\",\"phone\":\"503-177-5772\",\"birthdate\":\"1996-04-05\",\"email\":\"ddyerson17@uol.com.br\"},\n",
    "{\"first_name\":\"Amberly\",\"last_name\":\"Zimmermeister\",\"gender\":\"Female\",\"phone\":\"743-344-3445\",\"birthdate\":\"2002-10-21\",\"email\":\"azimmermeister18@tumblr.com\"},\n",
    "{\"first_name\":\"Marie-jeanne\",\"last_name\":\"Fagg\",\"gender\":\"Female\",\"phone\":\"656-210-3859\",\"birthdate\":\"1996-12-28\",\"email\":\"mfagg19@cbslocal.com\"},\n",
    "{\"first_name\":\"Valera\",\"last_name\":\"Kaiser\",\"gender\":\"Female\",\"phone\":\"335-701-8769\",\"birthdate\":\"1998-01-25\",\"email\":\"vkaiser1a@rakuten.co.jp\"},\n",
    "{\"first_name\":\"Oberon\",\"last_name\":\"Corbert\",\"gender\":\"Male\",\"phone\":\"356-512-4841\",\"birthdate\":\"2003-03-29\",\"email\":\"ocorbert1b@wikipedia.org\"},\n",
    "{\"first_name\":\"Dayle\",\"last_name\":\"Holsey\",\"gender\":\"Female\",\"phone\":\"439-196-9075\",\"birthdate\":\"1996-05-01\",\"email\":\"dholsey1c@google.ru\"},\n",
    "{\"first_name\":\"Dev\",\"last_name\":\"Logue\",\"gender\":\"Male\",\"phone\":\"817-115-6728\",\"birthdate\":\"1994-10-22\",\"email\":\"dlogue1d@amazon.co.uk\"}]"
   ]
  },
  {
   "cell_type": "code",
   "execution_count": 49,
   "metadata": {},
   "outputs": [],
   "source": [
    "with db.atomic():\n",
    "   Profesores.insert_many(dataset_profesores).execute()\n",
    "   Cursos.insert_many(dataset_cursos).execute()\n",
    "   Alumnos.insert_many(dataset_alumnos).execute()"
   ]
  },
  {
   "cell_type": "code",
   "execution_count": 75,
   "metadata": {},
   "outputs": [],
   "source": [
    "query = Profesores.select().where(Profesores.age > 40)\n",
    "\n",
    "\n",
    "\n",
    "\n",
    "#x=Profesores.select().where(Profesores.age >45)\n"
   ]
  },
  {
   "cell_type": "code",
   "execution_count": 73,
   "metadata": {},
   "outputs": [
    {
     "name": "stdout",
     "output_type": "stream",
     "text": [
      "('SELECT `t1`.`id`, `t1`.`first_name`, `t1`.`last_name`, `t1`.`gender`, `t1`.`phone`, `t1`.`birthdate`, `t1`.`email` FROM `profesores` AS `t1` WHERE ((%s - EXTRACT(year FROM `t1`.`birthdate`)) > %s)', [2022, 30])\n"
     ]
    }
   ],
   "source": [
    "print(query.sql())"
   ]
  },
  {
   "cell_type": "code",
   "execution_count": null,
   "metadata": {},
   "outputs": [],
   "source": [
    "for v in query:\n",
    "\tprint('{}, {}: {}'.format(v.first_name,v.last_name, v.age))"
   ]
  },
  {
   "cell_type": "code",
   "execution_count": 77,
   "metadata": {},
   "outputs": [],
   "source": [
    "dataset_profesores_cursos = [(\"Catherina\",\"Ortsmann\",\"python_net_2023\"),\n",
    "(\"Catherina\",\"Ortsmann\",\"testing_qa_2023\"),\n",
    "(\"Alejoa\",\"Geale\",\"python_db_2023\"),\n",
    "(\"Alejoa\",\"Geale\",\"python_fullstack_2023\"),\n",
    "(\"Alejoa\",\"Geale\",\"python_net_2023\"),\n",
    "(\"Alejoa\",\"Izak\",\"python_net_2023\")]\n",
    "\n",
    "for nombre_profe, apellido_profe, codigo_curso in dataset_profesores_cursos:\n",
    "\tprofe = Profesores.get(Profesores.first_name == nombre_profe and Profesores.last_name == apellido_profe)\n",
    "\t\n",
    "\tcur = Cursos.get(Cursos.cod_curso == codigo_curso)\n",
    "\t\n",
    "\tProfesoresCursos.create(profesor = profe, curso=cur)"
   ]
  },
  {
   "cell_type": "code",
   "execution_count": null,
   "metadata": {},
   "outputs": [],
   "source": [
    "query = (Profesores\n",
    "\t\t\t.select(Profesores.first_name, Profesores.last_name, Cursos.cod_curso)\n",
    "\t\t\t.join(ProfesoresCursos)\n",
    "\t\t\t.join(Cursos)\n",
    "\t\t\t.order_by(Profesores.first_name))\n",
    "\n",
    "for valor in query.tuples():\n",
    "\tprint(valor)"
   ]
  },
  {
   "cell_type": "code",
   "execution_count": null,
   "metadata": {},
   "outputs": [],
   "source": [
    "print(query.sql())"
   ]
  },
  {
   "cell_type": "code",
   "execution_count": null,
   "metadata": {},
   "outputs": [],
   "source": [
    "registro=AlumnosCursos.create(\n",
    "\talumno=Alumnos.get(Alumnos.first_name == 'Carry' & Alumnos.last_name == 'GiacobbiniJacob'), \n",
    "\tcurso=Cursos.get(Cursos.cod_curso =='python_net_2023')\n",
    "\t)\n",
    "\n",
    "registro.save()\n",
    "\n",
    "print(registro.get_id())"
   ]
  },
  {
   "cell_type": "code",
   "execution_count": null,
   "metadata": {},
   "outputs": [],
   "source": [
    "profes = Profesores.select().order_by(Profesores.first_name , Profesores.last_name )\n",
    "\n",
    "for n in profes.tuples():\n",
    "\tprint(n)"
   ]
  },
  {
   "cell_type": "code",
   "execution_count": null,
   "metadata": {},
   "outputs": [],
   "source": [
    "profes= Profesores.select().offset(5).limit(10)\n",
    "for n in profes.tuples():\n",
    "\tprint(n)"
   ]
  },
  {
   "cell_type": "code",
   "execution_count": null,
   "metadata": {},
   "outputs": [],
   "source": [
    "query = (Profesores\n",
    "\t\t\t.select(Profesores.first_name, Profesores.last_name, Cursos.cod_curso, Alumnos.first_name, Alumnos.last_name)\n",
    "\t\t\t.join(ProfesoresCursos)\n",
    "\t\t\t.join(Cursos)\n",
    "\t\t\t.join(AlumnosCursos)\n",
    "\t\t\t.join(Alumnos))\n",
    "\n",
    "for valor in query.tuples():\n",
    "\tprint(valor)\n"
   ]
  },
  {
   "cell_type": "code",
   "execution_count": null,
   "metadata": {},
   "outputs": [],
   "source": [
    "print(query.sql())"
   ]
  },
  {
   "attachments": {},
   "cell_type": "markdown",
   "metadata": {},
   "source": [
    "Reflector"
   ]
  },
  {
   "cell_type": "code",
   "execution_count": null,
   "metadata": {},
   "outputs": [],
   "source": [
    "from peewee import *\n",
    "from playhouse.reflection import generate_models\n",
    "db = MySQLDatabase('pil2023', user='root', password='Pil2023', host='localhost', port=3306)\n",
    "models = generate_models(db)\n",
    "list(models.keys())\n"
   ]
  },
  {
   "attachments": {},
   "cell_type": "markdown",
   "metadata": {},
   "source": [
    "Inyectamos los modelos en el namespace\n",
    "Select usando el modelo generado"
   ]
  },
  {
   "cell_type": "code",
   "execution_count": null,
   "metadata": {},
   "outputs": [],
   "source": [
    "globals().update(models)\n",
    "for cust in tblUsuarios.select(): \n",
    "\tprint(cust.nombre)"
   ]
  }
 ],
 "metadata": {
  "kernelspec": {
   "display_name": "Python 3.10.6 64-bit",
   "language": "python",
   "name": "python3"
  },
  "language_info": {
   "codemirror_mode": {
    "name": "ipython",
    "version": 3
   },
   "file_extension": ".py",
   "mimetype": "text/x-python",
   "name": "python",
   "nbconvert_exporter": "python",
   "pygments_lexer": "ipython3",
   "version": "3.10.6"
  },
  "orig_nbformat": 4,
  "vscode": {
   "interpreter": {
    "hash": "aee8b7b246df8f9039afb4144a1f6fd8d2ca17a180786b69acc140d282b71a49"
   }
  }
 },
 "nbformat": 4,
 "nbformat_minor": 2
}
