{
 "cells": [
  {
   "attachments": {},
   "cell_type": "markdown",
   "metadata": {},
   "source": [
    "# Python y MySQL\n",
    "\n",
    "En este notebook vamos nos vamos a conectar a nuestra base de datos MySQL, crearemos una nueva base de datos, una nueva tabla, insertaremos registros y trabajaremos con ellos.\n",
    "\n",
    "**Recomendación**: además de realizar los ejercicios, les sugerimos fuertemente que vayan probando y modificando el código presente en este notebook. La mejor manera de aprender es haciendo, 'romper' el código e intentar entender porque dejó de funcionar. ¡No hay nada irreversible, no tengas miedo! Siempre podés volver a descargar el notebook.\n"
   ]
  },
  {
   "attachments": {},
   "cell_type": "markdown",
   "metadata": {},
   "source": [
    "## Instalación de mysqlclient\n",
    "Esta es una aplicación de cliente de base de datos que sirve como medio/interfaz entre el usuario que ejecuta los códigos Python y la base de datos mysql. mysqlclient fue desarrollado para reemplazar MySql-python y brinda soporte para Python3, aunque también es compatible con versiones anteriores."
   ]
  },
  {
   "cell_type": "code",
   "execution_count": null,
   "metadata": {},
   "outputs": [],
   "source": [
    "pip install mysqlclient"
   ]
  },
  {
   "attachments": {},
   "cell_type": "markdown",
   "metadata": {},
   "source": [
    "## Crear conexión entre python y MySQL\n",
    "Importar MySQLdb\n",
    "MySQLdb.connect(host=\"localhost\", user=\"root\", passwd=\"Pil2023\", db=\"jonhydb\")\n",
    "\n",
    "**Donde:**\n",
    "\n",
    "| <!-- -->    | <!-- -->    |\n",
    "|-------------|-------------|\n",
    "|**host:**     | Es la dirección del servidor donde nos conectaremos. puede ser un dominio o una dirección IP. Para conectarnos anuestro MySQL local usaremos 127.0.0.1 o localhost.|\n",
    "|**user:**     |Es el usuario configurado en la base de datos.|\n",
    "|**passwd:**   |Es la contraseña configurada para ese usuario.|\n",
    "|**db:**       |Es opcional, y hace referencia a la base de datos que nos conectaremos por defecto.|\n",
    "\n",
    "\n"
   ]
  },
  {
   "cell_type": "code",
   "execution_count": null,
   "metadata": {},
   "outputs": [],
   "source": [
    "import MySQLdb"
   ]
  },
  {
   "cell_type": "code",
   "execution_count": null,
   "metadata": {},
   "outputs": [],
   "source": [
    "db = MySQLdb.connect(host=\"localhost\",\n",
    "                     user=\"root\",\n",
    "                     passwd=\"Pil2023\",\n",
    "                     db=\"Pil2023\")\n"
   ]
  },
  {
   "attachments": {},
   "cell_type": "markdown",
   "metadata": {},
   "source": [
    "Pasos para ejecutar una sentencia SQL\n",
    "1. Crear un cursor\n",
    "2. Ejecutar la sentencia SQL\n",
    "3. Ejecutar commit para confirmar la transacción\n",
    "4. Cerrar cursor"
   ]
  },
  {
   "cell_type": "code",
   "execution_count": null,
   "metadata": {},
   "outputs": [],
   "source": [
    "cursor=db.cursor()\n",
    "\n",
    "crear_tabla=\"\"\"CREATE TABLE IF NOT EXISTS tblUsuarios (\n",
    "   idx INT PRIMARY KEY AUTO_INCREMENT,\n",
    "   usuario VARCHAR(20),\n",
    "   nombre VARCHAR(20),\n",
    "   sexo VARCHAR(1),\n",
    "   nivel TINYINT,\n",
    "   email VARCHAR(50),\n",
    "   telefono VARCHAR(20),\n",
    "   marca VARCHAR(20),\n",
    "   compañia VARCHAR(20),\n",
    "   saldo FLOAT,\n",
    "   activo BOOLEAN\n",
    ")\"\"\"\n",
    "\n",
    "cursor.execute(crear_tabla)\n",
    "cursor.close()"
   ]
  },
  {
   "attachments": {},
   "cell_type": "markdown",
   "metadata": {},
   "source": [
    "## Insertar registro simple ##\n",
    "\n",
    "**cursor.execute()**\n",
    "\n",
    "Cómo insertar en la tabla MySQL desde Python  \n",
    "\n",
    "**Conectarse a MySQL desde Python**\n",
    "Referenciar la conexión de MySQL de Python para conectarse a la base de datos MySQL desde Python usando el módulo MySQLdb Connector  \n",
    "\n",
    "Definir una consulta de inserción SQL  \n",
    "A continuación, preparar una consulta SQL INSERT para insertar una fila en una tabla. en la consulta de inserción, mencionamos los nombres de las columnas y sus valores para insertar en una tabla.  \n",
    "Por ejemplo, INSERT INTO mysql_table (columna1, columna2, …) VALORES (valor1, valor2, …);  \n",
    "\n",
    "Obtener objeto de cursor de la conexión  \n",
    "A continuación, utilice el método connection.cursor() para crear un objeto de cursor. Este método crea un nuevo objeto MySQLCursor.  \n",
    "\n",
    "Ejecute la consulta de inserción usando el método execute()  \n",
    "Ejecute la consulta de inserción utilizando el método cursor.execute(). Este método ejecuta la operación almacenada en la consulta de inserción.  \n",
    "\n",
    "Confirma tus cambios  \n",
    "Después de la ejecución exitosa de una consulta, haga que los cambios sean persistentes en la base de datos utilizando el commit() de la clase de conexión.  \n",
    "\n",
    "Obtener el número de filas afectadas  \n",
    "Después de una operación de inserción exitosa, use un método cursor.rowcount para obtener el número de filas afectadas. El recuento depende de cuántas filas esté insertando.  \n",
    "\n",
    "Verifique el resultado usando la consulta SQL SELECT  \n",
    "Ejecute una consulta de selección de MySQL desde Python para ver los nuevos cambios.  \n",
    "\n",
    "Cierre el objeto del cursor y el objeto de conexión de la base de datos.  \n",
    "Usar el método cursor.close() y connection.close() para cerrar las conexiones abiertas después de completar el trabajo.  "
   ]
  },
  {
   "cell_type": "code",
   "execution_count": null,
   "metadata": {},
   "outputs": [],
   "source": [
    "mySql_insert_query=\"\"\"INSERT INTO tblUsuarios VALUES (1,'BRE2271','BRENDA','M',2,'brenda@live.com','655-330-5736','SAMSUNG','IUSACELL',100,1)\"\"\"\n",
    "cursor=db.cursor()\n",
    "cursor.execute(mySql_insert_query)\n",
    "db.commit()\n",
    "print (cursor.rowcount, \"Registros insertados en la tabla\")\n",
    "cursor.close()"
   ]
  },
  {
   "attachments": {},
   "cell_type": "markdown",
   "metadata": {},
   "source": [
    "## Insertar múltiples registros ##\n",
    "**cursor.executemany()**"
   ]
  },
  {
   "cell_type": "code",
   "execution_count": null,
   "metadata": {},
   "outputs": [],
   "source": [
    "datos=[\n",
    "(2,'OSC4677','OSCAR','H',2,'oscar@gmail.com','655-143-4181','LG','TELCEL',0,1),\n",
    "(3,'JOS7086','JOSE','H',3,'francisco@gmail.com','655-143-3922','NOKIA','MOVISTAR',150,1),\n",
    "(4,'LUI6115','LUIS','H',0,'enrique@outlook.com','655-137-1279','SAMSUNG','TELCEL',50,1),\n",
    "(5,'LUI7072','LUIS','H',1,'luis@hotmail.com','655-100-8260','NOKIA','IUSACELL',50,0),\n",
    "(6,'DAN2832','DANIEL','H',0,'daniel@outlook.com','655-145-2586','SONY','UNEFON',100,1),\n",
    "(7,'JAQ5351','JAQUELINE','M',0,'jaqueline@outlook.com','655-330-5514','IPHONE','AXEL',0,1),\n",
    "(8,'ROM6520','ROMAN','H',2,'roman@gmail.com','655-330-3263','LG','IUSACELL',50,1),\n",
    "(9,'BLA9739','BLAS','H',0,'blas@hotmail.com','655-330-3871','LG','UNEFON',100,1),\n",
    "(10,'JES4752','JESSICA','M',1,'jessica@hotmail.com','655-143-6861','SAMSUNG','TELCEL',500,1),\n",
    "(11,'DIA6570','DIANA','M',1,'diana@live.com','655-143-3952','SONY','UNEFON',100,0),\n",
    "(12,'RIC8283','RICARDO','H',2,'ricardo@hotmail.com','655-145-6049','MOTOROLA','IUSACELL',150,1),\n",
    "(13,'VAL6882','VALENTINA','M',0,'valentina@live.com','655-137-4253','IPHONE','AT&T',50,0),\n",
    "(14,'BRE8106','BRENDA','M',3,'brenda2@gmail.com','655-100-1351','MOTOROLA','NEXTEL',150,1),\n",
    "(15,'LUC4982','LUCIA','M',3,'lucia@gmail.com','655-145-4992','IPHONE','IUSACELL',0,1),\n",
    "(16,'JUA2337','JUAN','H',0,'juan@outlook.com','655-100-6517','SAMSUNG','AXEL',0,0),\n",
    "(17,'ELP2984','ELPIDIO','H',1,'elpidio@outlook.com','655-145-9938','MOTOROLA','MOVISTAR',500,1),\n",
    "(18,'JES9640','JESSICA','M',3,'jessica2@live.com','655-330-5143','SONY','IUSACELL',200,1),\n",
    "(19,'LET4015','LETICIA','M',2,'leticia@yahoo.com','655-143-4019','IPHONE','UNEFON',100,1),\n",
    "(20,'LUI1076','LUIS','H',3,'luis2@live.com','655-100-5085','SONY','UNEFON',150,1),\n",
    "(21,'HUG5441','HUGO','H',2,'hugo@live.com','655-137-3935','MOTOROLA','AT&T',500,1)\n",
    "]"
   ]
  },
  {
   "cell_type": "code",
   "execution_count": null,
   "metadata": {},
   "outputs": [],
   "source": [
    "insertar=\"\"\"INSERT INTO tblUsuarios VALUES (%s, %s, %s, %s, %s, %s, %s, %s, %s, %s, %s)\"\"\"\n",
    "cursor=db.cursor()\n",
    "cursor.executemany(insertar,datos)\n",
    "db.commit();\n",
    "print (cursor.rowcount, \"Registros insertados en la tabla\")\n",
    "cursor.close();"
   ]
  },
  {
   "attachments": {},
   "cell_type": "markdown",
   "metadata": {},
   "source": [
    "## Cerrar conector ##"
   ]
  },
  {
   "cell_type": "code",
   "execution_count": null,
   "metadata": {},
   "outputs": [],
   "source": [
    "db.close()"
   ]
  },
  {
   "attachments": {},
   "cell_type": "markdown",
   "metadata": {},
   "source": [
    "## Captura de errores ##"
   ]
  },
  {
   "cell_type": "code",
   "execution_count": null,
   "metadata": {},
   "outputs": [],
   "source": [
    "try:\n",
    "    connection = MySQLdb.connect(host=\"localhost\",\n",
    "                     user=\"root\",\n",
    "                     passwd=\"Pil2023\",\n",
    "                     db=\"Pil2023\")\n",
    "\n",
    "    mySql_insert_query=\"\"\"INSERT INTO tblUsuarios (idx, usuario, nombre, sexo, nivel, email, telefono, marca, compañia, saldo, activo) \n",
    "                        VALUES (%s, %s, %s, %s, %s, %s, %s, %s, %s, %s, %s)\"\"\"\n",
    "\n",
    "    datos=(1,'BRE2271','BRENDA','M',2,'brenda@live.com','655-330-5736','SAMSUNG','IUSACELL',100,1)\n",
    "\n",
    "    cursor = connection.cursor()\n",
    "    cursor.execute(mySql_insert_query,datos)\n",
    "    connection.commit()\n",
    "    print(cursor.rowcount, \"Registros insertados en la tabla\")\n",
    "    cursor.close()\n",
    "\n",
    "except MySQLdb.Error as error:\n",
    "    print(\"Error al insertar registro en la tabla {}\".format(error))\n",
    "\n",
    "finally:\n",
    "    if connection.ping:\n",
    "        connection.close()\n",
    "        print(\"Conexión con MySQL cerrada\")"
   ]
  },
  {
   "attachments": {},
   "cell_type": "markdown",
   "metadata": {},
   "source": [
    "## Convertimos el código anterior en función para reutilizar indefinidamente en nuestro código ##"
   ]
  },
  {
   "cell_type": "code",
   "execution_count": null,
   "metadata": {},
   "outputs": [],
   "source": [
    "def insertar_en_tabla(idx, usuario, nombre, sexo, nivel, email, telefono, marca, compañia, saldo, activo):\n",
    "\ttry:\n",
    "\t\tconnection = MySQLdb.connect(host=\"localhost\",\n",
    "\t\t\t\t\t\tuser=\"root\",\n",
    "\t\t\t\t\t\tpasswd=\"Pil2023\",\n",
    "\t\t\t\t\t\tdb=\"Pil2023\")\n",
    "\n",
    "\t\tmySql_insert_query=\"\"\"INSERT INTO tblUsuarios VALUES (%s, %s, %s, %s, %s, %s, %s, %s, %s, %s, %s)\"\"\"\n",
    "\n",
    "\t\tdatos=(idx, usuario, nombre, sexo, nivel, email, telefono, marca, compañia, saldo, activo)\n",
    "\n",
    "\t\tcursor = connection.cursor()\n",
    "\t\tcursor.execute(mySql_insert_query,datos)\n",
    "\t\tconnection.commit()\n",
    "\t\tprint(cursor.rowcount, \"Registros insertados en la tabla\")\n",
    "\t\tcursor.close()\n",
    "\n",
    "\texcept MySQLdb.Error as error:\n",
    "\t\tprint(\"Error al insertar registro en la tabla {}\".format(error))\n",
    "\n",
    "\tfinally:\n",
    "\t\tif connection.ping:\n",
    "\t\t\tconnection.close()\n",
    "\t\t\tprint(\"Conexión con MySQL cerrada\")\n",
    "\n",
    "insertar_en_tabla(100,'MAR2134','MARIELA','M',1,'mariela@live.com','365-254-9874','SAMSUNG','IUSACELL',123.67,1)\n",
    "insertar_en_tabla(101,'VIC8734','VICTORIA','M',2,'victoria@live.com','457-658-1236','SAMSUNG','IUSACELL',574.32,1)"
   ]
  },
  {
   "attachments": {},
   "cell_type": "markdown",
   "metadata": {},
   "source": [
    "## Ejercicios con consultas simples ##\n",
    "\n",
    "**Listar los nombres de los usuarios**  \n",
    "SELECT nombre FROM tblUsuarios;  \n",
    "\n",
    "**Calcular el saldo máximo de los usuarios de sexo \"Mujer\"**  \n",
    "SELECT MAX(saldo) FROM tblUsuarios WHERE sexo = 'M';  \n",
    "\n",
    "**Listar nombre y teléfono de los usuarios con teléfono NOKIA, IPHONE o SONY**  \n",
    "SELECT nombre, telefono FROM tblUsuarios WHERE marca IN('NOKIA', 'IPHONE', 'SONY');\n",
    "\n",
    "Contar los usuarios sin saldo o inactivos**  \n",
    "SELECT COUNT(*) FROM tblUsuarios WHERE NOT activo OR saldo <= 0;  \n",
    "\n",
    "**Listar el login de los usuarios con nivel 1, 2 o 3**  \n",
    "SELECT usuario FROM tblUsuarios WHERE nivel IN(1, 2, 3);  \n",
    "\n",
    "**Listar los números de teléfono con saldo menor o igual a 300**  \n",
    "SELECT telefono FROM tblUsuarios WHERE saldo <= 300;  \n",
    "\n",
    "**Calcular la suma de los saldos de los usuarios de la compañia telefónica NEXTEL**  \n",
    "SELECT SUM(saldo) FROM tblUsuarios WHERE compañia = 'NEXTEL';  \n",
    "\n",
    "**Contar el número de usuarios por compañía telefónica**  \n",
    "SELECT compañia, COUNT(*) FROM tblUsuarios GROUP BY compañia;  \n",
    "\n",
    "**Contar el número de usuarios por nivel**  \n",
    "SELECT nivel, COUNT(*) FROM tblUsuarios GROUP BY nivel;  \n",
    "\n",
    "**Listar el login de los usuarios con nivel 2**  \n",
    "SELECT usuario FROM tblUsuarios WHERE nivel = 2;  \n",
    "\n",
    "**Mostrar el email de los usuarios que usan gmail**  \n",
    "SELECT email FROM tblUsuarios WHERE email LIKE '%gmail.com';  \n",
    "\n",
    "**Listar nombre y teléfono de los usuarios con teléfono LG, SAMSUNG o MOTOROLA**  \n",
    "SELECT nombre, telefono FROM tblUsuarios WHERE marca IN('LG', 'SAMSUNG', 'MOTOROLA');  "
   ]
  },
  {
   "cell_type": "code",
   "execution_count": null,
   "metadata": {},
   "outputs": [],
   "source": [
    "def seleccionar_en_tabla(sql):\n",
    "    try:\n",
    "        connection = MySQLdb.connect(host=\"localhost\",\n",
    "\t\t\t\t\t\tuser=\"root\",\n",
    "\t\t\t\t\t\tpasswd=\"Pil2023\",\n",
    "\t\t\t\t\t\tdb=\"Pil2023\")\n",
    "\n",
    "        cursor = connection.cursor()\n",
    "        cursor.execute(sql)\n",
    "        rows = cursor.fetchall()\n",
    "        connection.commit()\n",
    "        print(cursor.rowcount, \"Registros recuperados en la tabla\")\n",
    "        cursor.close()\n",
    "\n",
    "    except MySQLdb.Error as error:\n",
    "        print(\"Error al insertar registro en la tabla {}\".format(error))\n",
    "\n",
    "    finally:\n",
    "        if connection.ping:\n",
    "            connection.close()\n",
    "            print(\"Conexión con MySQL cerrada\")\n",
    "        return rows\n",
    "\n",
    "filas = seleccionar_en_tabla(\"SELECT nombre FROM tblUsuarios\")\n",
    "\n",
    "for row in filas:\n",
    "    print(row[0])"
   ]
  }
 ],
 "metadata": {
  "kernelspec": {
   "display_name": "Python 3.9.13 64-bit",
   "language": "python",
   "name": "python3"
  },
  "language_info": {
   "codemirror_mode": {
    "name": "ipython",
    "version": 3
   },
   "file_extension": ".py",
   "mimetype": "text/x-python",
   "name": "python",
   "nbconvert_exporter": "python",
   "pygments_lexer": "ipython3",
   "version": "3.10.6"
  },
  "orig_nbformat": 4,
  "vscode": {
   "interpreter": {
    "hash": "aee8b7b246df8f9039afb4144a1f6fd8d2ca17a180786b69acc140d282b71a49"
   }
  }
 },
 "nbformat": 4,
 "nbformat_minor": 2
}
